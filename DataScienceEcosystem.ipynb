{
 "cells": [
  {
   "cell_type": "markdown",
   "id": "7a816f97-787f-422e-b862-69a7cbcebb41",
   "metadata": {},
   "source": [
    "# Data Science Tools and Ecosystem"
   ]
  },
  {
   "cell_type": "markdown",
   "id": "7a2b862c-8857-49dd-b2bd-3aea238bdb47",
   "metadata": {},
   "source": [
    "## Author \n",
    "Flavia D'Annunzio"
   ]
  },
  {
   "cell_type": "markdown",
   "id": "e7d1e556-9fea-4b69-85ff-a0cb335900ce",
   "metadata": {},
   "source": [
    "### In this notebook, Data Science Tools and Ecosystem are summarized."
   ]
  },
  {
   "cell_type": "markdown",
   "id": "69ea9f21-41cc-4bc0-b386-8c95312587e6",
   "metadata": {},
   "source": [
    "**Objectives:** \n",
    "- List popular languages for Data Science\n",
    "- List data Science Tools\n",
    "- List popular libraries used by Data Scientists\n",
    "- Create simple arithmetic expressions"
   ]
  },
  {
   "cell_type": "markdown",
   "id": "5925f568-b9a5-47cf-b93e-5bac4afb0e81",
   "metadata": {},
   "source": [
    "#### Some of the popular languages that Data Scientists use are: \n",
    "1. Python\n",
    "2. R\n",
    "3. SQL\n",
    "4. Scala\n",
    "5. Java\n",
    "6. C ++\n",
    "7. Julia\r\n"
   ]
  },
  {
   "cell_type": "markdown",
   "id": "933e2269-44f6-414a-a846-bc0e6545ccd5",
   "metadata": {},
   "source": [
    "#### Some of the commonly used libraries used by Data Scientists include: \n",
    "1. Pandas\n",
    "2. Matplotlib\n",
    "3. scikit-learn\n",
    "4. TensorFlow\n",
    "5. ggplot2\r\n"
   ]
  },
  {
   "cell_type": "markdown",
   "id": "1fb9508d-abab-4fef-a16a-34bdfd467d21",
   "metadata": {},
   "source": [
    "|  Data Science Tools | \n",
    "----------------------- \n",
    "| Jupyter Notebook | \n",
    "| R Studio | \n",
    "| Apache Zeppelin |"
   ]
  },
  {
   "cell_type": "markdown",
   "id": "620a2a41-829d-4c4f-adf1-44090b2c2434",
   "metadata": {},
   "source": [
    "### Below are a few examples of evaluating arithmetic expressions in Python:\n"
   ]
  },
  {
   "cell_type": "markdown",
   "id": "8f78cf5e-0fd2-4bdd-95e2-1b32d33abe33",
   "metadata": {},
   "source": [
    "##### This a simple arithmetic expression to mutiply then add integers:"
   ]
  },
  {
   "cell_type": "code",
   "execution_count": 14,
   "id": "a5eea0d4-58ed-4d3b-a544-3a2081025756",
   "metadata": {},
   "outputs": [
    {
     "data": {
      "text/plain": [
       "17"
      ]
     },
     "execution_count": 14,
     "metadata": {},
     "output_type": "execute_result"
    }
   ],
   "source": [
    "(3*4)+5"
   ]
  },
  {
   "cell_type": "markdown",
   "id": "764d976d-984e-45fd-aa22-a22a647b143a",
   "metadata": {},
   "source": [
    "##### This will convert 200 minutes to hours by diving by 60:"
   ]
  },
  {
   "cell_type": "code",
   "execution_count": 17,
   "id": "8188755e-0ce4-472b-ad7c-dc608795da84",
   "metadata": {},
   "outputs": [
    {
     "data": {
      "text/plain": [
       "3.3333333333333335"
      ]
     },
     "execution_count": 17,
     "metadata": {},
     "output_type": "execute_result"
    }
   ],
   "source": [
    "200 / 60"
   ]
  },
  {
   "cell_type": "code",
   "execution_count": null,
   "id": "189c6f0c-9134-4574-8dcd-833640beaf4f",
   "metadata": {},
   "outputs": [],
   "source": []
  }
 ],
 "metadata": {
  "kernelspec": {
   "display_name": "Python 3 (ipykernel)",
   "language": "python",
   "name": "python3"
  },
  "language_info": {
   "codemirror_mode": {
    "name": "ipython",
    "version": 3
   },
   "file_extension": ".py",
   "mimetype": "text/x-python",
   "name": "python",
   "nbconvert_exporter": "python",
   "pygments_lexer": "ipython3",
   "version": "3.12.4"
  }
 },
 "nbformat": 4,
 "nbformat_minor": 5
}
